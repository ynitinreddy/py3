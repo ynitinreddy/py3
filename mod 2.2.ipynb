{
 "cells": [
  {
   "cell_type": "code",
   "execution_count": 2,
   "metadata": {},
   "outputs": [
    {
     "name": "stdout",
     "output_type": "stream",
     "text": [
      "Enter 1 no=2\n",
      "Enter 2 no=3\n",
      "Enter 3 no=1\n",
      "greatest Number= 3\n"
     ]
    }
   ],
   "source": [
    "a=int(input(\"Enter 1 no=\"))\n",
    "b=int(input(\"Enter 2 no=\"))\n",
    "c=int(input(\"Enter 3 no=\"))\n",
    "if (a >= b) and (a >= c): \n",
    "        g = a \n",
    "  \n",
    "elif (b >= a) and (b >= c): \n",
    "        g = b    \n",
    "else: \n",
    "        g = c \n",
    "          \n",
    "print(\"greatest Number=\",g) \n",
    "  "
   ]
  },
  {
   "cell_type": "code",
   "execution_count": 4,
   "metadata": {},
   "outputs": [
    {
     "name": "stdout",
     "output_type": "stream",
     "text": [
      "Given String:  ROBO 2020\n",
      "Reversed String:  0202 OBOR\n"
     ]
    }
   ],
   "source": [
    "mystr = \"ROBO 2020\"\n",
    "print(\"Given String: \", mystr)\n",
    "s = \"\"\n",
    "for ch in mystr:\n",
    "        s = ch + s\n",
    "print(\"Reversed String: \", s)"
   ]
  },
  {
   "cell_type": "code",
   "execution_count": 7,
   "metadata": {},
   "outputs": [
    {
     "name": "stdout",
     "output_type": "stream",
     "text": [
      "Enter value= 3\n",
      "3 is a prime number\n"
     ]
    }
   ],
   "source": [
    "n = int(input(\"Enter value= \"))  \n",
    "  \n",
    "if n > 1:  \n",
    "   for i in range(2,n):  \n",
    "       if (n % i) == 0:  \n",
    "           print(n,\"is not a prime number\")  \n",
    "           break  \n",
    "   else:  \n",
    "       print(n,\"is a prime number\")  \n",
    "         \n",
    "else:  \n",
    "   print(n,\"is not a prime number\")  "
   ]
  },
  {
   "cell_type": "code",
   "execution_count": 9,
   "metadata": {},
   "outputs": [
    {
     "name": "stdout",
     "output_type": "stream",
     "text": [
      "Enter the value=4004\n",
      "The number is a palindrome!\n"
     ]
    }
   ],
   "source": [
    "n=int(input(\"Enter the value=\"))\n",
    "temp=n\n",
    "rev=0\n",
    "while(n>0):\n",
    "    dig=n%10\n",
    "    rev=rev*10+dig\n",
    "    n=n//10\n",
    "if(temp==rev):\n",
    "    print(\"The number is a palindrome!\")\n",
    "else:\n",
    "    print(\"Not a palindrome\")"
   ]
  },
  {
   "cell_type": "code",
   "execution_count": null,
   "metadata": {},
   "outputs": [],
   "source": []
  }
 ],
 "metadata": {
  "kernelspec": {
   "display_name": "Python 3",
   "language": "python",
   "name": "python3"
  },
  "language_info": {
   "codemirror_mode": {
    "name": "ipython",
    "version": 3
   },
   "file_extension": ".py",
   "mimetype": "text/x-python",
   "name": "python",
   "nbconvert_exporter": "python",
   "pygments_lexer": "ipython3",
   "version": "3.8.3"
  }
 },
 "nbformat": 4,
 "nbformat_minor": 4
}
